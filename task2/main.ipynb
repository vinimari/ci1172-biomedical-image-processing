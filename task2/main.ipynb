{
 "cells": [
  {
   "cell_type": "markdown",
   "id": "introduction",
   "metadata": {},
   "source": [
    "# Pneumothorax Classification using OpenCV Histogram Comparison\n",
    "\n",
    "This notebook implements a leave-one-out validation approach to evaluate four different histogram comparison methods in OpenCV for classifying chest X-ray images as either containing pneumothorax (positive class) or not (negative class).\n",
    "\n",
    "Methods evaluated:\n",
    "- CV_COMP_CORREL (Correlation)\n",
    "- CV_COMP_CHISQR (Chi-Square)\n",
    "- CV_COMP_INTERSECT (Intersection)\n",
    "- CV_COMP_BHATTACHARYYA (Bhattacharyya distance)\n",
    "\n",
    "For each method, we'll calculate:\n",
    "- Confusion matrix\n",
    "- Sensitivity (recall for positive class)\n",
    "- Specificity (true negative rate)"
   ]
  },
  {
   "cell_type": "code",
   "execution_count": null,
   "id": "imports",
   "metadata": {},
   "outputs": [],
   "source": [
    "import cv2\n",
    "import numpy as np\n",
    "import os\n",
    "import pandas as pd\n",
    "from sklearn.metrics import confusion_matrix, classification_report\n",
    "import matplotlib.pyplot as plt\n",
    "import seaborn as sns\n",
    "import pydicom"
   ]
  },
  {
   "cell_type": "markdown",
   "id": "data-loading",
   "metadata": {},
   "source": [
    "## 1. Data Preparation\n",
    "\n",
    "load the labels file and prepare dataset."
   ]
  },
  {
   "cell_type": "code",
   "execution_count": null,
   "id": "load-data",
   "metadata": {},
   "outputs": [],
   "source": [
    "labels_df = pd.read_csv('labels.csv')\n",
    "print(f\"Total images in dataset: {len(labels_df)}\")\n",
    "\n",
    "labels_df.head()"
   ]
  },
  {
   "cell_type": "code",
   "execution_count": null,
   "id": "count-classes",
   "metadata": {},
   "outputs": [],
   "source": [
    "# Count the distribution of classes\n",
    "class_counts = labels_df['label'].value_counts()\n",
    "print(\"Class distribution:\")\n",
    "print(class_counts)\n",
    "\n",
    "# Plot class distribution\n",
    "plt.figure(figsize=(3, 2))\n",
    "class_counts.plot(kind='bar', color=['skyblue', 'salmon'])\n",
    "plt.title('Class Distribution in Dataset')\n",
    "plt.ylabel('Number of Images')\n",
    "plt.grid(axis='y', alpha=0.3)\n",
    "plt.show()"
   ]
  },
  {
   "cell_type": "code",
   "execution_count": null,
   "id": "prepare-dataset",
   "metadata": {},
   "outputs": [],
   "source": [
    "# Get the first 15 files from each class\n",
    "pneumothorax_files = labels_df[labels_df['label'] == 'Pneumothorax']['file'].tolist()[:15]\n",
    "no_pneumothorax_files = labels_df[labels_df['label'] == 'No Pneumothorax']['file'].tolist()[:15]\n",
    "\n",
    "print(f\"Number of Pneumothorax files selected: {len(pneumothorax_files)}\")\n",
    "print(f\"Number of No Pneumothorax files selected: {len(no_pneumothorax_files)}\")\n",
    "\n",
    "# Combine both lists\n",
    "all_files = pneumothorax_files + no_pneumothorax_files\n",
    "all_labels = ['Pneumothorax'] * 15 + ['No Pneumothorax'] * 15"
   ]
  },
  {
   "cell_type": "markdown",
   "id": "image-processing",
   "metadata": {},
   "source": [
    "## 2. Image Processing Functions\n",
    "\n",
    "Define functions to load DICOM images and extract histogram features."
   ]
  },
  {
   "cell_type": "code",
   "execution_count": null,
   "id": "image-functions",
   "metadata": {},
   "outputs": [],
   "source": [
    "# Define the path to the dataset root\n",
    "DATASET_ROOT = \"./\"  # Path where your DICOM files are stored\n",
    "\n",
    "def load_image(file_path):\n",
    "    try:\n",
    "        # Construct the full path to the DICOM file\n",
    "        full_path = os.path.join(DATASET_ROOT, file_path)\n",
    "\n",
    "        # Read the DICOM file\n",
    "        dicom = pydicom.dcmread(full_path)\n",
    "\n",
    "        # Convert to numpy array\n",
    "        image = dicom.pixel_array\n",
    "\n",
    "        # Normalize to 8-bit range\n",
    "        image = cv2.normalize(image, None, 0, 255, cv2.NORM_MINMAX, dtype=cv2.CV_8U)\n",
    "\n",
    "        return image\n",
    "    except Exception as e:\n",
    "        print(f\"Error loading {file_path}: {e}\")\n",
    "        return None\n",
    "\n",
    "# Function to extract features (histogram) from an image\n",
    "def extract_features(image):\n",
    "    # Calculate histogram\n",
    "    hist = cv2.calcHist([image], [0], None, [256], [0, 256])\n",
    "\n",
    "    # Normalize the histogram\n",
    "    hist = cv2.normalize(hist, hist).flatten()\n",
    "\n",
    "    return hist"
   ]
  },
  {
   "cell_type": "markdown",
   "id": "methods-section",
   "metadata": {},
   "source": [
    "## 3. Define Comparison Methods\n",
    "\n",
    "Set up the OpenCV comparison methods we'll be evaluating."
   ]
  },
  {
   "cell_type": "code",
   "execution_count": null,
   "id": "comparison-methods",
   "metadata": {},
   "outputs": [],
   "source": [
    "# Define comparison methods\n",
    "comparison_methods = {\n",
    "    'cv2.HISTCMP_CORREL': cv2.HISTCMP_CORREL,           # Correlation\n",
    "    'cv2.HISTCMP_CHISQR': cv2.HISTCMP_CHISQR,           # Chi-Square\n",
    "    'cv2.HISTCMP_INTERSECT': cv2.HISTCMP_INTERSECT,     # Intersection\n",
    "    'cv2.HISTCMP_BHATTACHARYYA': cv2.HISTCMP_BHATTACHARYYA  # Bhattacharyya distance\n",
    "}"
   ]
  },
  {
   "cell_type": "markdown",
   "id": "knn-section",
   "metadata": {},
   "source": [
    "## 4. Classification Function\n",
    "\n",
    "Implement the leave-one-out classification approach."
   ]
  },
  {
   "cell_type": "code",
   "execution_count": null,
   "id": "classification-function",
   "metadata": {},
   "outputs": [],
   "source": [
    "# Function to classify an image using leave-one-out approach with k-nearest neighbors\n",
    "def classify_leave_one_out(test_idx, method_code, k=3):\n",
    "    \"\"\"Classify a test image using the k-nearest neighbors approach.\n",
    "\n",
    "    Args:\n",
    "        test_idx: Index of the test image in all_files list\n",
    "        method_code: OpenCV histogram comparison method code\n",
    "        k: Number of nearest neighbors to consider (default=3)\n",
    "\n",
    "    Returns:\n",
    "        Tuple of (true_label, predicted_label)\n",
    "    \"\"\"\n",
    "    test_file = all_files[test_idx]\n",
    "    test_label = all_labels[test_idx]\n",
    "\n",
    "    # Load and extract features for test image\n",
    "    test_image = load_image(test_file)\n",
    "    test_hist = extract_features(test_image)\n",
    "\n",
    "    # Store scores and labels\n",
    "    scores = []\n",
    "\n",
    "    # Compare with all other images\n",
    "    for i, file_path in enumerate(all_files):\n",
    "        if i == test_idx:\n",
    "            continue # Skip the test image\n",
    "\n",
    "        # Load and extract features for training image\n",
    "        train_image = load_image(file_path)\n",
    "        train_hist = extract_features(train_image)\n",
    "\n",
    "        # Compare histograms\n",
    "        score = cv2.compareHist(test_hist, train_hist, method_code)\n",
    "        scores.append((score, all_labels[i]))\n",
    "\n",
    "    # Sort scores based on comparison method\n",
    "    if method_code in [cv2.HISTCMP_CORREL, cv2.HISTCMP_INTERSECT]:  # Higher is better\n",
    "        scores.sort(reverse=True)  # Sort in descending order\n",
    "    else:  # HISTCMP_CHISQR and HISTCMP_BHATTACHARYYA: Lower is better\n",
    "        scores.sort()  # Sort in ascending order\n",
    "\n",
    "    # Get the top k neighbors\n",
    "    top_k = scores[:k]\n",
    "\n",
    "    # Count votes for each class\n",
    "    votes = {}\n",
    "    for _, label in top_k:\n",
    "        votes[label] = votes.get(label, 0) + 1\n",
    "\n",
    "    # Get the majority vote\n",
    "    pred_label = max(votes.items(), key=lambda x: x[1])[0]\n",
    "\n",
    "    return test_label, pred_label"
   ]
  },
  {
   "cell_type": "markdown",
   "id": "evaluation",
   "metadata": {},
   "source": [
    "## 5. Evaluate Methods\n",
    "\n",
    "Perform leave-one-out validation for each comparison method and calculate metrics."
   ]
  },
  {
   "cell_type": "code",
   "execution_count": null,
   "id": "evaluate-methods",
   "metadata": {},
   "outputs": [],
   "source": [
    "# Results container\n",
    "results = {}\n",
    "\n",
    "# Function to run evaluation for a single method\n",
    "def evaluate_method(method_name, method_code, k=3):\n",
    "    \"\"\"Evaluate a single comparison method.\"\"\"\n",
    "    print(f\"\\nEvaluating method: {method_name} with k={k}\")\n",
    "\n",
    "    true_labels = []\n",
    "    pred_labels = []\n",
    "\n",
    "    for i in range(len(all_files)):\n",
    "        true_label, pred_label = classify_leave_one_out(i, method_code, k)\n",
    "        true_labels.append(true_label)\n",
    "        pred_labels.append(pred_label)\n",
    "\n",
    "    # Calculate confusion matrix\n",
    "    cm = confusion_matrix(true_labels, pred_labels, labels=['Pneumothorax', 'No Pneumothorax'])\n",
    "\n",
    "    # Calculate sensitivity (recall for positive class - Pneumothorax)\n",
    "    sensitivity = cm[0, 0] / (cm[0, 0] + cm[0, 1])\n",
    "\n",
    "    # Calculate specificity (true negative rate - correctly identified No Pneumothorax)\n",
    "    specificity = cm[1, 1] / (cm[1, 0] + cm[1, 1])\n",
    "\n",
    "    print(f\"Confusion Matrix:\\n{cm}\")\n",
    "    print(f\"Sensitivity (True Positive Rate): {sensitivity:.4f}\")\n",
    "    print(f\"Specificity (True Negative Rate): {specificity:.4f}\")\n",
    "\n",
    "    # Get classification report\n",
    "    report = classification_report(true_labels, pred_labels,\n",
    "                                  target_names=['Pneumothorax', 'No Pneumothorax'])\n",
    "    print(f\"Classification Report:\\n{report}\")\n",
    "\n",
    "    # Store results\n",
    "    return {\n",
    "        'confusion_matrix': cm,\n",
    "        'sensitivity': sensitivity,\n",
    "        'specificity': specificity,\n",
    "        'true_labels': true_labels,\n",
    "        'pred_labels': pred_labels\n",
    "    }"
   ]
  },
  {
   "cell_type": "code",
   "execution_count": null,
   "id": "run-evaluation",
   "metadata": {},
   "outputs": [],
   "source": [
    "# Evaluate each method\n",
    "for method_name, method_code in comparison_methods.items():\n",
    "    results[method_name] = evaluate_method(method_name, method_code, k=11)"
   ]
  },
  {
   "cell_type": "markdown",
   "id": "visualization",
   "metadata": {},
   "source": [
    "## 6. Visualize Results\n",
    "\n",
    "Create confusion matrices and summary tables for each method."
   ]
  },
  {
   "cell_type": "code",
   "execution_count": null,
   "id": "visualize-results",
   "metadata": {},
   "outputs": [],
   "source": [
    "# Visualize confusion matrices\n",
    "plt.figure(figsize=(12, 8))\n",
    "\n",
    "for i, (method_name, result) in enumerate(results.items()):\n",
    "    plt.subplot(2, 2, i+1)\n",
    "    sns.heatmap(result['confusion_matrix'], annot=True, fmt='d', cmap='Blues',\n",
    "                xticklabels=['Pneumothorax', 'No Pneumothorax'],\n",
    "                yticklabels=['Pneumothorax', 'No Pneumothorax'])\n",
    "    plt.title(f\"{method_name}\\nSensitivity: {result['sensitivity']:.4f}, Specificity: {result['specificity']:.4f}\")\n",
    "    plt.ylabel('True Label')\n",
    "    plt.xlabel('Predicted Label')\n",
    "\n",
    "plt.tight_layout()\n",
    "plt.savefig('confusion_matrices.png')\n",
    "plt.show()"
   ]
  },
  {
   "cell_type": "code",
   "execution_count": null,
   "id": "summary-table",
   "metadata": {},
   "outputs": [],
   "source": [
    "# Create summary table\n",
    "summary = pd.DataFrame({\n",
    "    'Method': list(results.keys()),\n",
    "    'Sensitivity': [results[m]['sensitivity'] for m in results],\n",
    "    'Specificity': [results[m]['specificity'] for m in results]\n",
    "})\n",
    "\n",
    "print(\"\\nSummary of Results:\")\n",
    "summary"
   ]
  },
  {
   "cell_type": "code",
   "execution_count": null,
   "id": "plot-metrics",
   "metadata": {},
   "outputs": [],
   "source": [
    "# Plot sensitivity and specificity for each method\n",
    "plt.figure(figsize=(8, 4))\n",
    "\n",
    "# Prepare data for grouped bar chart\n",
    "methods = list(results.keys())\n",
    "sensitivities = [results[m]['sensitivity'] for m in methods]\n",
    "specificities = [results[m]['specificity'] for m in methods]\n",
    "\n",
    "# Set bar positions\n",
    "x = np.arange(len(methods))\n",
    "width = 0.35\n",
    "\n",
    "# Create bars\n",
    "plt.bar(x - width/2, sensitivities, width, label='Sensitivity', color='#5DA5DA')\n",
    "plt.bar(x + width/2, specificities, width, label='Specificity', color='#FAA43A')\n",
    "\n",
    "# Add labels and legend\n",
    "plt.xlabel('Comparison Method')\n",
    "plt.ylabel('Score')\n",
    "plt.title('Sensitivity and Specificity by Comparison Method')\n",
    "plt.xticks(x, [m.replace('cv2.HISTCMP_', '') for m in methods], rotation=45)\n",
    "plt.legend()\n",
    "plt.ylim(0, 1.0)\n",
    "plt.grid(axis='y', alpha=0.3)\n",
    "\n",
    "# Add value labels on the bars\n",
    "for i, v in enumerate(sensitivities):\n",
    "    plt.text(i - width/2, v + 0.02, f'{v:.2f}', ha='center')\n",
    "\n",
    "for i, v in enumerate(specificities):\n",
    "    plt.text(i + width/2, v + 0.02, f'{v:.2f}', ha='center')\n",
    "\n",
    "plt.tight_layout()\n",
    "plt.savefig('sensitivity_specificity_comparison.png')\n",
    "plt.show()"
   ]
  },
  {
   "cell_type": "markdown",
   "id": "conclusion",
   "metadata": {},
   "source": [
    "## 7. Conclusion\n",
    "\n",
    "In this notebook, we evaluated four different histogram comparison methods for the task of pneumothorax classification in chest X-rays:\n",
    "\n",
    "1. **Correlation (CV_COMP_CORREL)**: Measures similarity between histograms. Higher values indicate greater similarity.\n",
    "2. **Chi-Square (CV_COMP_CHISQR)**: Measures statistical difference between histograms. Lower values indicate greater similarity.\n",
    "3. **Intersection (CV_COMP_INTERSECT)**: Measures the common parts between histograms. Higher values indicate greater similarity.\n",
    "4. **Bhattacharyya distance (CV_COMP_BHATTACHARYYA)**: Measures the similarity between probability distributions. Lower values indicate greater similarity.\n",
    "\n",
    "The results show variations in performance across the methods, with different trade-offs between sensitivity (ability to detect pneumothorax cases) and specificity (ability to correctly identify non-pneumothorax cases)."
   ]
  }
 ],
 "metadata": {
  "kernelspec": {
   "display_name": ".venv",
   "language": "python",
   "name": "python3"
  },
  "language_info": {
   "codemirror_mode": {
    "name": "ipython",
    "version": 3
   },
   "file_extension": ".py",
   "mimetype": "text/x-python",
   "name": "python",
   "nbconvert_exporter": "python",
   "pygments_lexer": "ipython3",
   "version": "3.12.3"
  }
 },
 "nbformat": 4,
 "nbformat_minor": 5
}
